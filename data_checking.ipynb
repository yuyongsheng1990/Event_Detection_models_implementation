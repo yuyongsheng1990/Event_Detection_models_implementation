{
 "cells": [
  {
   "cell_type": "code",
   "execution_count": 2,
   "id": "9c2888d1",
   "metadata": {},
   "outputs": [
    {
     "data": {
      "text/plain": [
       "'\\n2022.10.21, checking data for event detection\\nModels:\\n    1) FinEvent\\n    2) KPGNN\\n'"
      ]
     },
     "execution_count": 2,
     "metadata": {},
     "output_type": "execute_result"
    }
   ],
   "source": [
    "'''\n",
    "2022.10.21, checking data for event detection\n",
    "Models:\n",
    "    1) FinEvent\n",
    "    2) KPGNN\n",
    "'''"
   ]
  },
  {
   "cell_type": "code",
   "execution_count": 3,
   "id": "c5de2078",
   "metadata": {},
   "outputs": [],
   "source": [
    "import numpy as np\n",
    "import pandas as pd\n",
    "\n",
    "import os\n",
    "project_path = os.getcwd()"
   ]
  },
  {
   "cell_type": "code",
   "execution_count": 4,
   "id": "82455825",
   "metadata": {},
   "outputs": [
    {
     "data": {
      "text/plain": [
       "'D:\\\\PycharmProjects\\\\GNN_Event_Detection_models'"
      ]
     },
     "execution_count": 4,
     "metadata": {},
     "output_type": "execute_result"
    }
   ],
   "source": [
    "project_path"
   ]
  },
  {
   "cell_type": "markdown",
   "id": "4aad4e20",
   "metadata": {},
   "source": [
    "## FinEvet data"
   ]
  },
  {
   "cell_type": "markdown",
   "id": "3e669639",
   "metadata": {},
   "source": [
    "### offline data"
   ]
  },
  {
   "cell_type": "code",
   "execution_count": 5,
   "id": "6fd28575",
   "metadata": {},
   "outputs": [],
   "source": [
    "# Twitter offline data for FinEvent model\n",
    "offline_data = '/data/FinEvent_datasets/offline/0'"
   ]
  },
  {
   "cell_type": "code",
   "execution_count": 6,
   "id": "aa9896f7",
   "metadata": {},
   "outputs": [],
   "source": [
    "data_features = np.load(project_path + offline_data + '/features.npy')\n",
    "data_labels = np.load(project_path + offline_data + '/labels.npy')"
   ]
  },
  {
   "cell_type": "code",
   "execution_count": 7,
   "id": "04253367",
   "metadata": {},
   "outputs": [
    {
     "data": {
      "text/plain": [
       "(68841, 300)"
      ]
     },
     "execution_count": 7,
     "metadata": {},
     "output_type": "execute_result"
    }
   ],
   "source": [
    "data_features.shape"
   ]
  },
  {
   "cell_type": "code",
   "execution_count": 8,
   "id": "7c5dd736",
   "metadata": {},
   "outputs": [
    {
     "data": {
      "text/plain": [
       "array([[-0.2108075 ,  0.20623374,  0.20069999, ..., -0.263     ,\n",
       "         0.21215501,  0.190649  ],\n",
       "       [-0.06414334,  0.16038734,  0.471691  , ..., -0.12185667,\n",
       "         0.06794   ,  0.12017686],\n",
       "       [-0.25564337,  0.06492691,  0.30455333, ..., -0.35371998,\n",
       "         0.34504333,  0.15217233],\n",
       "       ...,\n",
       "       [-0.23498434, -0.06000866,  0.27791   , ...,  0.03108733,\n",
       "        -0.19636732, -0.08902135],\n",
       "       [-0.19697833,  0.17932083, -0.18321826, ...,  0.05813325,\n",
       "        -0.02271575,  0.12811857],\n",
       "       [-0.0559687 ,  0.14717391, -0.07961421, ..., -0.13795723,\n",
       "         0.05610847,  0.09389253]], dtype=float32)"
      ]
     },
     "execution_count": 8,
     "metadata": {},
     "output_type": "execute_result"
    }
   ],
   "source": [
    "data_features"
   ]
  },
  {
   "cell_type": "code",
   "execution_count": 9,
   "id": "7c8767d9",
   "metadata": {},
   "outputs": [
    {
     "data": {
      "text/plain": [
       "(68841,)"
      ]
     },
     "execution_count": 9,
     "metadata": {},
     "output_type": "execute_result"
    }
   ],
   "source": [
    "data_labels.shape"
   ]
  },
  {
   "cell_type": "code",
   "execution_count": 10,
   "id": "887e732b",
   "metadata": {},
   "outputs": [
    {
     "data": {
      "text/plain": [
       "array([394, 394, 394, ...,  52, 197, 430], dtype=int64)"
      ]
     },
     "execution_count": 10,
     "metadata": {},
     "output_type": "execute_result"
    }
   ],
   "source": [
    "data_labels"
   ]
  },
  {
   "cell_type": "markdown",
   "id": "850d2c2a",
   "metadata": {},
   "source": [
    "### incremental data"
   ]
  },
  {
   "cell_type": "code",
   "execution_count": 11,
   "id": "f89c72b1",
   "metadata": {},
   "outputs": [],
   "source": [
    "# Twitter incremental data"
   ]
  },
  {
   "cell_type": "code",
   "execution_count": 12,
   "id": "6c87ff7e",
   "metadata": {},
   "outputs": [],
   "source": [
    "incremental_data = '/data/FinEvent_datasets/incremental'"
   ]
  },
  {
   "cell_type": "code",
   "execution_count": 13,
   "id": "7d44f4f6",
   "metadata": {},
   "outputs": [],
   "source": [
    "data_all_graph_mins = np.load(project_path + incremental_data + '/all_graph_mins.npy')\n",
    "data_data_split = np.load(project_path + incremental_data + '/data_split.npy')"
   ]
  },
  {
   "cell_type": "code",
   "execution_count": 14,
   "id": "d3982b23",
   "metadata": {},
   "outputs": [
    {
     "data": {
      "text/plain": [
       "(22,)"
      ]
     },
     "execution_count": 14,
     "metadata": {},
     "output_type": "execute_result"
    }
   ],
   "source": [
    "data_all_graph_mins.shape"
   ]
  },
  {
   "cell_type": "code",
   "execution_count": 15,
   "id": "8b60798a",
   "metadata": {},
   "outputs": [
    {
     "data": {
      "text/plain": [
       "array([0.88943383, 0.16785372, 0.00560299, 0.00812201, 0.00907635,\n",
       "       0.00749143, 0.00390392, 0.06602791, 0.00678952, 0.00465628,\n",
       "       0.00325728, 0.00327895, 0.02269816, 0.00928863, 0.01886542,\n",
       "       0.01287993, 0.002161  , 0.01506681, 0.00800496, 0.00414097,\n",
       "       0.00237813, 0.01290204])"
      ]
     },
     "execution_count": 15,
     "metadata": {},
     "output_type": "execute_result"
    }
   ],
   "source": [
    "data_all_graph_mins"
   ]
  },
  {
   "cell_type": "code",
   "execution_count": 16,
   "id": "4ffed68b",
   "metadata": {},
   "outputs": [
    {
     "data": {
      "text/plain": [
       "(22,)"
      ]
     },
     "execution_count": 16,
     "metadata": {},
     "output_type": "execute_result"
    }
   ],
   "source": [
    "data_data_split.shape"
   ]
  },
  {
   "cell_type": "markdown",
   "id": "d6624d75",
   "metadata": {},
   "source": [
    "#### day 0"
   ]
  },
  {
   "cell_type": "code",
   "execution_count": 20,
   "id": "62e95649",
   "metadata": {},
   "outputs": [],
   "source": [
    "data_features = np.load(project_path + incremental_data + '/0/features.npy')\n",
    "data_labels = np.load(project_path + incremental_data + '/0/labels.npy')\n",
    "# data_relation_config = np.load(project_path + incremental_data + '/0/relation_config.npy', allow_pickle=True)"
   ]
  },
  {
   "cell_type": "code",
   "execution_count": 21,
   "id": "b3102e34",
   "metadata": {},
   "outputs": [
    {
     "data": {
      "text/plain": [
       "(20254, 300)"
      ]
     },
     "execution_count": 21,
     "metadata": {},
     "output_type": "execute_result"
    }
   ],
   "source": [
    "data_features.shape"
   ]
  },
  {
   "cell_type": "code",
   "execution_count": 22,
   "id": "ae85ecad",
   "metadata": {},
   "outputs": [
    {
     "data": {
      "text/plain": [
       "array([[-0.2108075 ,  0.20623374,  0.20069999, ..., -0.263     ,\n",
       "         0.21215501,  0.190649  ],\n",
       "       [-0.06414334,  0.16038734,  0.471691  , ..., -0.12185667,\n",
       "         0.06794   ,  0.12017686],\n",
       "       [-0.25564337,  0.06492691,  0.30455333, ..., -0.35371998,\n",
       "         0.34504333,  0.15217233],\n",
       "       ...,\n",
       "       [-0.0553655 ,  0.05928   , -0.10435   , ...,  0.01208425,\n",
       "        -0.18419175, -0.11138435],\n",
       "       [-0.02057833, -0.01771078, -0.07201657, ...,  0.12110816,\n",
       "        -0.31362444, -0.00799999],\n",
       "       [-0.166718  ,  0.1659406 , -0.02848601, ..., -0.15238741,\n",
       "        -0.195202  ,  0.10067419]], dtype=float32)"
      ]
     },
     "execution_count": 22,
     "metadata": {},
     "output_type": "execute_result"
    }
   ],
   "source": [
    "data_features"
   ]
  },
  {
   "cell_type": "code",
   "execution_count": 23,
   "id": "4ccbcc44",
   "metadata": {},
   "outputs": [
    {
     "data": {
      "text/plain": [
       "(20254,)"
      ]
     },
     "execution_count": 23,
     "metadata": {},
     "output_type": "execute_result"
    }
   ],
   "source": [
    "data_labels.shape"
   ]
  },
  {
   "cell_type": "code",
   "execution_count": 24,
   "id": "45a291c7",
   "metadata": {},
   "outputs": [
    {
     "data": {
      "text/plain": [
       "array([  0,   1,   2,   3,   4,   5,   6,   7,   8,  18,  19,  20,  21,\n",
       "        22,  23,  24,  27,  28,  71,  75,  77,  78,  79,  80,  81,  82,\n",
       "        83,  84,  85,  86,  87,  88,  89,  91,  92,  93,  94,  95,  96,\n",
       "        97,  98,  99, 100, 101, 102, 103, 104, 105, 106, 107, 148, 192,\n",
       "       238, 239, 240, 241, 242, 243, 244, 245, 246, 274, 275, 276, 277,\n",
       "       278, 279, 280, 281, 282, 283, 284, 285, 310, 311, 312, 313, 314,\n",
       "       315, 316, 317, 318, 320, 321, 322, 323, 324, 325, 326, 327, 328,\n",
       "       346, 347, 348, 349, 350, 351, 352, 353, 354, 355, 356, 357, 358,\n",
       "       359, 360, 361, 362, 363, 364, 365, 366, 380, 381, 382, 383, 384,\n",
       "       385, 386, 394, 419, 420, 421, 422, 423, 424, 425, 426, 427, 428,\n",
       "       429, 464, 465, 466, 467, 468, 469, 470, 471, 472, 473, 474, 475,\n",
       "       476, 477, 478, 479, 480, 487, 500, 501, 502, 503, 504, 505],\n",
       "      dtype=int64)"
      ]
     },
     "execution_count": 24,
     "metadata": {},
     "output_type": "execute_result"
    }
   ],
   "source": [
    "np.unique(data_labels)"
   ]
  },
  {
   "cell_type": "code",
   "execution_count": 25,
   "id": "ec87e030",
   "metadata": {},
   "outputs": [
    {
     "data": {
      "text/plain": [
       "array([394, 394, 394, ...,   8, 351,  20], dtype=int64)"
      ]
     },
     "execution_count": 25,
     "metadata": {},
     "output_type": "execute_result"
    }
   ],
   "source": [
    "data_labels"
   ]
  },
  {
   "cell_type": "markdown",
   "id": "286fd7a9",
   "metadata": {},
   "source": [
    "#### day 1"
   ]
  },
  {
   "cell_type": "code",
   "execution_count": 26,
   "id": "93c0ec4e",
   "metadata": {},
   "outputs": [],
   "source": [
    "data_features = np.load(project_path + incremental_data + '/1/features.npy')\n",
    "data_labels = np.load(project_path + incremental_data + '/1/labels.npy')\n",
    "# data_relation_config = np.load(project_path + incremental_data + '/1/relation_config.npy', allow_pickle=True)"
   ]
  },
  {
   "cell_type": "code",
   "execution_count": 27,
   "id": "9eb588fc",
   "metadata": {},
   "outputs": [
    {
     "data": {
      "text/plain": [
       "(8722, 300)"
      ]
     },
     "execution_count": 27,
     "metadata": {},
     "output_type": "execute_result"
    }
   ],
   "source": [
    "data_features.shape"
   ]
  },
  {
   "cell_type": "code",
   "execution_count": 28,
   "id": "58a84847",
   "metadata": {},
   "outputs": [
    {
     "data": {
      "text/plain": [
       "array([[-0.1876805 ,  0.060796  , -0.18039191, ...,  0.0186169 ,\n",
       "         0.1161634 , -0.071475  ],\n",
       "       [-0.0062081 ,  0.05227879, -0.02977721, ..., -0.0182999 ,\n",
       "        -0.31581932,  0.1304561 ],\n",
       "       [ 0.07530945,  0.14353155, -0.2836156 , ..., -0.12168166,\n",
       "         0.37752703, -0.03327982],\n",
       "       ...,\n",
       "       [ 0.11428875, -0.00918162, -0.16528925, ...,  0.19711208,\n",
       "        -0.20216438, -0.07916175],\n",
       "       [ 0.12064295, -0.0106019 ,  0.12542793, ..., -0.07570857,\n",
       "        -0.01984036, -0.17617427],\n",
       "       [-0.21470843, -0.02862857,  0.31913716, ..., -0.00729572,\n",
       "        -0.04512414,  0.09993502]], dtype=float32)"
      ]
     },
     "execution_count": 28,
     "metadata": {},
     "output_type": "execute_result"
    }
   ],
   "source": [
    "data_features"
   ]
  },
  {
   "cell_type": "code",
   "execution_count": 29,
   "id": "b1854ab2",
   "metadata": {},
   "outputs": [
    {
     "data": {
      "text/plain": [
       "(8722,)"
      ]
     },
     "execution_count": 29,
     "metadata": {},
     "output_type": "execute_result"
    }
   ],
   "source": [
    "data_labels.shape"
   ]
  },
  {
   "cell_type": "code",
   "execution_count": 30,
   "id": "df78185d",
   "metadata": {},
   "outputs": [
    {
     "data": {
      "text/plain": [
       "array([  8,  20,   8, ..., 196, 349,  28], dtype=int64)"
      ]
     },
     "execution_count": 30,
     "metadata": {},
     "output_type": "execute_result"
    }
   ],
   "source": [
    "data_labels"
   ]
  },
  {
   "cell_type": "markdown",
   "id": "ccad0f1f",
   "metadata": {},
   "source": [
    "## KPGNN data"
   ]
  },
  {
   "cell_type": "code",
   "execution_count": 31,
   "id": "230082c4",
   "metadata": {},
   "outputs": [],
   "source": [
    "# https://github.com/RingBDStack/KPGNN/blob/main/datasets/data_usage.md"
   ]
  },
  {
   "cell_type": "markdown",
   "id": "c0df3212",
   "metadata": {},
   "source": [
    "### Twitter data"
   ]
  },
  {
   "cell_type": "code",
   "execution_count": 36,
   "id": "d6899c83",
   "metadata": {},
   "outputs": [
    {
     "data": {
      "text/plain": [
       "'D:\\\\PycharmProjects\\\\GNN_Event_Detection_models/data/KPGNN datasets/Twitter/68841_tweets_multiclasses_filtered_0722_part1.npy'"
      ]
     },
     "execution_count": 36,
     "metadata": {},
     "output_type": "execute_result"
    }
   ],
   "source": [
    "project_path + twitter_data_path + '/68841_tweets_multiclasses_filtered_0722_part1.npy'"
   ]
  },
  {
   "cell_type": "code",
   "execution_count": 37,
   "id": "dd8446cc",
   "metadata": {},
   "outputs": [],
   "source": [
    "twitter_data_path = '/data/KPGNN datasets/Twitter'\n",
    "twitter_data_part1 = np.load(project_path + twitter_data_path + '/68841_tweets_multiclasses_filtered_0722_part1.npy', allow_pickle=True)\n",
    "twitter_data_part2 = np.load(project_path + twitter_data_path + '/68841_tweets_multiclasses_filtered_0722_part2.npy', allow_pickle=True)"
   ]
  },
  {
   "cell_type": "code",
   "execution_count": 43,
   "id": "566da796",
   "metadata": {},
   "outputs": [
    {
     "data": {
      "text/plain": [
       "array([[0, 256292946331181056,\n",
       "        'Nobel prize in literature to be announced http://t.co/qxlEqdl3',\n",
       "        ..., list(['literature', 'Nobel', 'prize', 'announce']),\n",
       "        list(['literature', 'nobel', 'prize', 'announce']), list([])],\n",
       "       [0, 256333064467279872,\n",
       "        \"“@marvicleonen: Is it true that UP won UAAP basketball?” -- Next year, Dean. Sure na 'yan!\",\n",
       "        ...,\n",
       "        list(['Dean', 'Sure', 'year', 'yan', 'na', '\"', 'basketball', 'true', 'next', 'UAAP']),\n",
       "        list(['dean', 'sure', 'year', 'yan', 'na', 'basketball', 'true', 'next', 'uaap']),\n",
       "        list([])],\n",
       "       [0, 256334302034399232,\n",
       "        'Congrats, Ateneo! Last na yan ha. Season 76 will be different. ☺',\n",
       "        ...,\n",
       "        list(['yan', '☺', 'na', 'ha', 'different', 'last', 'Ateneo', 'congrat', 'Season']),\n",
       "        list(['yan', 'na', 'ha', 'different', 'last', 'ateneo', 'congrat', 'season']),\n",
       "        list([])],\n",
       "       ...,\n",
       "       [1, 256569208165502976,\n",
       "        \"Doh! Hit em with the #sarahpalin...that's how you do it @JoeBiden!!!! Get it!\",\n",
       "        ..., list(['s', 'Get', 'hit', '-PRON-', 'Doh', 'that']),\n",
       "        list(['get', 'hit', 'doh', 'that']), list([])],\n",
       "       [1, 256569224808525825, 'This debate is boring.  @VPDebate', ...,\n",
       "        list(['boring', 'debate']), list(['boring', 'debate']), list([])],\n",
       "       [1, 256569233457152002,\n",
       "        'While everyone is watching the #VPDEBATE I am watching #JerseyShore',\n",
       "        ..., list(['everyone', 'watch']), list(['everyone', 'watch']),\n",
       "        list([])]], dtype=object)"
      ]
     },
     "execution_count": 43,
     "metadata": {},
     "output_type": "execute_result"
    }
   ],
   "source": [
    "twitter_data_part1"
   ]
  },
  {
   "cell_type": "code",
   "execution_count": 42,
   "id": "b2c318c2",
   "metadata": {},
   "outputs": [
    {
     "name": "stdout",
     "output_type": "stream",
     "text": [
      "Loaded Twitter data\n"
     ]
    }
   ],
   "source": [
    "# 合并数据集\n",
    "twitter_data = np.concatenate((twitter_data_part1, twitter_data_part2), axis=0)\n",
    "print('Loaded Twitter data')"
   ]
  },
  {
   "cell_type": "code",
   "execution_count": 44,
   "id": "3412d907",
   "metadata": {},
   "outputs": [],
   "source": [
    "df_twitter = pd.DataFrame(data=twitter_data, \n",
    "                          columns=['event_id', 'tweet_id', 'text', 'user_id', 'created_at', 'user_loc', 'place_type',\n",
    "                                  'place_full_name', 'place_country_code', 'hashtags', 'user_mentions', 'image_urls', 'entities',\n",
    "                                  'words', 'filtered_words', 'sampled_words'])"
   ]
  },
  {
   "cell_type": "code",
   "execution_count": 48,
   "id": "d484c2d0",
   "metadata": {},
   "outputs": [
    {
     "data": {
      "text/html": [
       "<div>\n",
       "<style scoped>\n",
       "    .dataframe tbody tr th:only-of-type {\n",
       "        vertical-align: middle;\n",
       "    }\n",
       "\n",
       "    .dataframe tbody tr th {\n",
       "        vertical-align: top;\n",
       "    }\n",
       "\n",
       "    .dataframe thead th {\n",
       "        text-align: right;\n",
       "    }\n",
       "</style>\n",
       "<table border=\"1\" class=\"dataframe\">\n",
       "  <thead>\n",
       "    <tr style=\"text-align: right;\">\n",
       "      <th></th>\n",
       "      <th>event_id</th>\n",
       "      <th>tweet_id</th>\n",
       "      <th>text</th>\n",
       "      <th>user_id</th>\n",
       "      <th>created_at</th>\n",
       "      <th>user_loc</th>\n",
       "      <th>place_type</th>\n",
       "      <th>place_full_name</th>\n",
       "      <th>place_country_code</th>\n",
       "      <th>hashtags</th>\n",
       "      <th>user_mentions</th>\n",
       "      <th>image_urls</th>\n",
       "      <th>entities</th>\n",
       "      <th>words</th>\n",
       "      <th>filtered_words</th>\n",
       "      <th>sampled_words</th>\n",
       "    </tr>\n",
       "  </thead>\n",
       "  <tbody>\n",
       "    <tr>\n",
       "      <th>0</th>\n",
       "      <td>0</td>\n",
       "      <td>256292946331181056</td>\n",
       "      <td>Nobel prize in literature to be announced http...</td>\n",
       "      <td>47667947</td>\n",
       "      <td>2012-10-11 07:19:34</td>\n",
       "      <td>Munich, Germany</td>\n",
       "      <td></td>\n",
       "      <td></td>\n",
       "      <td></td>\n",
       "      <td>[]</td>\n",
       "      <td>[]</td>\n",
       "      <td>[]</td>\n",
       "      <td>[]</td>\n",
       "      <td>[literature, Nobel, prize, announce]</td>\n",
       "      <td>[literature, nobel, prize, announce]</td>\n",
       "      <td>[]</td>\n",
       "    </tr>\n",
       "    <tr>\n",
       "      <th>1</th>\n",
       "      <td>0</td>\n",
       "      <td>256333064467279872</td>\n",
       "      <td>“@marvicleonen: Is it true that UP won UAAP ba...</td>\n",
       "      <td>67518107</td>\n",
       "      <td>2012-10-11 09:58:59</td>\n",
       "      <td>Philippines</td>\n",
       "      <td></td>\n",
       "      <td></td>\n",
       "      <td></td>\n",
       "      <td>[]</td>\n",
       "      <td>[28775032]</td>\n",
       "      <td>[]</td>\n",
       "      <td>[(UP, ORG), (Next year, DATE), (Dean, PERSON)]</td>\n",
       "      <td>[Dean, Sure, year, yan, na, \", basketball, tru...</td>\n",
       "      <td>[dean, sure, year, yan, na, basketball, true, ...</td>\n",
       "      <td>[]</td>\n",
       "    </tr>\n",
       "    <tr>\n",
       "      <th>2</th>\n",
       "      <td>0</td>\n",
       "      <td>256334302034399232</td>\n",
       "      <td>Congrats, Ateneo! Last na yan ha. Season 76 wi...</td>\n",
       "      <td>97449266</td>\n",
       "      <td>2012-10-11 10:03:54</td>\n",
       "      <td></td>\n",
       "      <td></td>\n",
       "      <td></td>\n",
       "      <td></td>\n",
       "      <td>[]</td>\n",
       "      <td>[]</td>\n",
       "      <td>[]</td>\n",
       "      <td>[(Ateneo, PERSON), (Season 76, PERSON)]</td>\n",
       "      <td>[yan, ☺, na, ha, different, last, Ateneo, cong...</td>\n",
       "      <td>[yan, na, ha, different, last, ateneo, congrat...</td>\n",
       "      <td>[]</td>\n",
       "    </tr>\n",
       "    <tr>\n",
       "      <th>3</th>\n",
       "      <td>0</td>\n",
       "      <td>256335853738160128</td>\n",
       "      <td>\"@SMARTPromos: SMART never wants you to be lef...</td>\n",
       "      <td>405138197</td>\n",
       "      <td>2012-10-11 10:10:04</td>\n",
       "      <td>Lost in Dreamland</td>\n",
       "      <td></td>\n",
       "      <td></td>\n",
       "      <td></td>\n",
       "      <td>[]</td>\n",
       "      <td>[106915372]</td>\n",
       "      <td>[]</td>\n",
       "      <td>[(BIG, ORG), (BIG, ORG)]</td>\n",
       "      <td>[never, s, yan, next, na, thing, Ano, leave, t...</td>\n",
       "      <td>[never, yan, next, na, thing, ano, leave, that...</td>\n",
       "      <td>[]</td>\n",
       "    </tr>\n",
       "    <tr>\n",
       "      <th>4</th>\n",
       "      <td>0</td>\n",
       "      <td>256346272506712064</td>\n",
       "      <td>CCTV invite hints at Nobel literature prize fo...</td>\n",
       "      <td>197326414</td>\n",
       "      <td>2012-10-11 10:51:28</td>\n",
       "      <td>Taiwan(R.O.C)</td>\n",
       "      <td></td>\n",
       "      <td></td>\n",
       "      <td></td>\n",
       "      <td>[]</td>\n",
       "      <td>[]</td>\n",
       "      <td>[]</td>\n",
       "      <td>[(CCTV, ORG), (Nobel, WORK_OF_ART), (Mo Yan, P...</td>\n",
       "      <td>[invite, prize, Yan, literature, hint, CCTV, N...</td>\n",
       "      <td>[invite, prize, yan, literature, hint, cctv, n...</td>\n",
       "      <td>[]</td>\n",
       "    </tr>\n",
       "  </tbody>\n",
       "</table>\n",
       "</div>"
      ],
      "text/plain": [
       "  event_id            tweet_id  \\\n",
       "0        0  256292946331181056   \n",
       "1        0  256333064467279872   \n",
       "2        0  256334302034399232   \n",
       "3        0  256335853738160128   \n",
       "4        0  256346272506712064   \n",
       "\n",
       "                                                text    user_id  \\\n",
       "0  Nobel prize in literature to be announced http...   47667947   \n",
       "1  “@marvicleonen: Is it true that UP won UAAP ba...   67518107   \n",
       "2  Congrats, Ateneo! Last na yan ha. Season 76 wi...   97449266   \n",
       "3  \"@SMARTPromos: SMART never wants you to be lef...  405138197   \n",
       "4  CCTV invite hints at Nobel literature prize fo...  197326414   \n",
       "\n",
       "           created_at           user_loc place_type place_full_name  \\\n",
       "0 2012-10-11 07:19:34    Munich, Germany                              \n",
       "1 2012-10-11 09:58:59        Philippines                              \n",
       "2 2012-10-11 10:03:54                                                 \n",
       "3 2012-10-11 10:10:04  Lost in Dreamland                              \n",
       "4 2012-10-11 10:51:28      Taiwan(R.O.C)                              \n",
       "\n",
       "  place_country_code hashtags user_mentions image_urls  \\\n",
       "0                          []            []         []   \n",
       "1                          []    [28775032]         []   \n",
       "2                          []            []         []   \n",
       "3                          []   [106915372]         []   \n",
       "4                          []            []         []   \n",
       "\n",
       "                                            entities  \\\n",
       "0                                                 []   \n",
       "1     [(UP, ORG), (Next year, DATE), (Dean, PERSON)]   \n",
       "2            [(Ateneo, PERSON), (Season 76, PERSON)]   \n",
       "3                           [(BIG, ORG), (BIG, ORG)]   \n",
       "4  [(CCTV, ORG), (Nobel, WORK_OF_ART), (Mo Yan, P...   \n",
       "\n",
       "                                               words  \\\n",
       "0               [literature, Nobel, prize, announce]   \n",
       "1  [Dean, Sure, year, yan, na, \", basketball, tru...   \n",
       "2  [yan, ☺, na, ha, different, last, Ateneo, cong...   \n",
       "3  [never, s, yan, next, na, thing, Ano, leave, t...   \n",
       "4  [invite, prize, Yan, literature, hint, CCTV, N...   \n",
       "\n",
       "                                      filtered_words sampled_words  \n",
       "0               [literature, nobel, prize, announce]            []  \n",
       "1  [dean, sure, year, yan, na, basketball, true, ...            []  \n",
       "2  [yan, na, ha, different, last, ateneo, congrat...            []  \n",
       "3  [never, yan, next, na, thing, ano, leave, that...            []  \n",
       "4  [invite, prize, yan, literature, hint, cctv, n...            []  "
      ]
     },
     "execution_count": 48,
     "metadata": {},
     "output_type": "execute_result"
    }
   ],
   "source": [
    "df_twitter.head(5)"
   ]
  },
  {
   "cell_type": "code",
   "execution_count": 45,
   "id": "139308f3",
   "metadata": {},
   "outputs": [
    {
     "name": "stdout",
     "output_type": "stream",
     "text": [
      "Data converted to dataframe\n",
      "(68841, 16)\n",
      "  event_id            tweet_id  \\\n",
      "0        0  256292946331181056   \n",
      "1        0  256333064467279872   \n",
      "2        0  256334302034399232   \n",
      "3        0  256335853738160128   \n",
      "4        0  256346272506712064   \n",
      "5        0  256346650132508673   \n",
      "6        0  256349023773024256   \n",
      "7        0  256349178991624192   \n",
      "8        0  256349191863943168   \n",
      "9        0  256349325876137984   \n",
      "\n",
      "                                                text    user_id  \\\n",
      "0  Nobel prize in literature to be announced http...   47667947   \n",
      "1  “@marvicleonen: Is it true that UP won UAAP ba...   67518107   \n",
      "2  Congrats, Ateneo! Last na yan ha. Season 76 wi...   97449266   \n",
      "3  \"@SMARTPromos: SMART never wants you to be lef...  405138197   \n",
      "4  CCTV invite hints at Nobel literature prize fo...  197326414   \n",
      "5  mjzone58: SIR HINDI BYAHE YAN. WALA TALAGANG P...  397051720   \n",
      "6  BREAKING: The 2012 Nobel Prize for Literature ...    7424642   \n",
      "7  \"@GuardianBooks: And the #Nobel prize for lite...   24515914   \n",
      "8  Chinese author Mo Yan wins Nobel prize for lit...   14860646   \n",
      "9  Congratulations! Mo Yan of this year Nobel Prize!  489617283   \n",
      "\n",
      "           created_at           user_loc place_type place_full_name  \\\n",
      "0 2012-10-11 07:19:34    Munich, Germany                              \n",
      "1 2012-10-11 09:58:59        Philippines                              \n",
      "2 2012-10-11 10:03:54                                                 \n",
      "3 2012-10-11 10:10:04  Lost in Dreamland                              \n",
      "4 2012-10-11 10:51:28      Taiwan(R.O.C)                              \n",
      "5 2012-10-11 10:52:58                                                 \n",
      "6 2012-10-11 11:02:24              Tokyo                              \n",
      "7 2012-10-11 11:03:01         Montevideo                              \n",
      "8 2012-10-11 11:03:04              Nepal                              \n",
      "9 2012-10-11 11:03:36                                                 \n",
      "\n",
      "  place_country_code hashtags user_mentions image_urls  \\\n",
      "0                          []            []         []   \n",
      "1                          []    [28775032]         []   \n",
      "2                          []            []         []   \n",
      "3                          []   [106915372]         []   \n",
      "4                          []            []         []   \n",
      "5                          []            []         []   \n",
      "6                          []            []         []   \n",
      "7                     [Nobel]    [22001973]         []   \n",
      "8                          []            []         []   \n",
      "9                          []            []         []   \n",
      "\n",
      "                                            entities  \\\n",
      "0                                                 []   \n",
      "1     [(UP, ORG), (Next year, DATE), (Dean, PERSON)]   \n",
      "2            [(Ateneo, PERSON), (Season 76, PERSON)]   \n",
      "3                           [(BIG, ORG), (BIG, ORG)]   \n",
      "4  [(CCTV, ORG), (Nobel, WORK_OF_ART), (Mo Yan, P...   \n",
      "5                                      [(WALA, ORG)]   \n",
      "6  [(Nobel Prize for Literature, WORK_OF_ART), (C...   \n",
      "7                                     [(China, GPE)]   \n",
      "8  [(Chinese, NORP), (Mo Yan, PERSON), (Nobel, WO...   \n",
      "9  [(Mo Yan, PERSON), (this year, DATE), (Nobel P...   \n",
      "\n",
      "                                               words  \\\n",
      "0               [literature, Nobel, prize, announce]   \n",
      "1  [Dean, Sure, year, yan, na, \", basketball, tru...   \n",
      "2  [yan, ☺, na, ha, different, last, Ateneo, cong...   \n",
      "3  [never, s, yan, next, na, thing, Ano, leave, t...   \n",
      "4  [invite, prize, Yan, literature, hint, CCTV, N...   \n",
      "5  [HINDI, wala, yan, mjzone58, panalo, SIR, BYAH...   \n",
      "6  [award, author, Yan, BREAKING, chinese, Litera...   \n",
      "7           [prize, Chinas, literature, Yan, go, Mo]   \n",
      "8  [author, prize, win, literature, Nobel, chines...   \n",
      "9     [year, Yan, Congratulations, Prize, Nobel, Mo]   \n",
      "\n",
      "                                      filtered_words    sampled_words  \n",
      "0               [literature, nobel, prize, announce]               []  \n",
      "1  [dean, sure, year, yan, na, basketball, true, ...               []  \n",
      "2  [yan, na, ha, different, last, ateneo, congrat...               []  \n",
      "3  [never, yan, next, na, thing, ano, leave, that...               []  \n",
      "4  [invite, prize, yan, literature, hint, cctv, n...               []  \n",
      "5  [hindi, wala, yan, panalo, sir, byahe, talagan...  [panalo, byahe]  \n",
      "6  [award, author, yan, breaking, chinese, litera...               []  \n",
      "7           [prize, chinas, literature, yan, go, mo]               []  \n",
      "8  [author, prize, win, literature, nobel, chines...               []  \n",
      "9     [year, yan, congratulations, prize, nobel, mo]               []  \n"
     ]
    }
   ],
   "source": [
    "print('Data converted to dataframe')\n",
    "print(df_twitter.shape)\n",
    "print(df_twitter.head(10))"
   ]
  }
 ],
 "metadata": {
  "kernelspec": {
   "display_name": "Python 3 (ipykernel)",
   "language": "python",
   "name": "python3"
  },
  "language_info": {
   "codemirror_mode": {
    "name": "ipython",
    "version": 3
   },
   "file_extension": ".py",
   "mimetype": "text/x-python",
   "name": "python",
   "nbconvert_exporter": "python",
   "pygments_lexer": "ipython3",
   "version": "3.9.12"
  },
  "toc": {
   "base_numbering": 1,
   "nav_menu": {},
   "number_sections": true,
   "sideBar": true,
   "skip_h1_title": false,
   "title_cell": "Table of Contents",
   "title_sidebar": "Contents",
   "toc_cell": false,
   "toc_position": {},
   "toc_section_display": true,
   "toc_window_display": true
  }
 },
 "nbformat": 4,
 "nbformat_minor": 5
}
